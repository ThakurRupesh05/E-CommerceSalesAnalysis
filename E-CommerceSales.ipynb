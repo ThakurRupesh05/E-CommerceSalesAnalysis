{
 "cells": [
  {
   "cell_type": "markdown",
   "id": "8132c837-a61b-47ba-8d2e-4a64fa195fe9",
   "metadata": {},
   "source": [
    "# E-Commerce Sales Analysis"
   ]
  },
  {
   "cell_type": "code",
   "execution_count": 1,
   "id": "87c11475-a854-4fed-be6c-e8c036b79679",
   "metadata": {},
   "outputs": [],
   "source": [
    "# Import Libraries\n",
    "import numpy as np\n",
    "import pandas as pd\n",
    "import matplotlib.pyplot as plt\n",
    "import seaborn as sns\n",
    "\n",
    "plt.style.use(\"ggplot\")"
   ]
  },
  {
   "cell_type": "code",
   "execution_count": 2,
   "id": "e0ff3b99-0ae1-4da1-a038-e485d5c6a62e",
   "metadata": {},
   "outputs": [],
   "source": [
    "# Load Data\n",
    "df = pd.read_csv(\"datasets/Ecommerce Data.csv\", parse_dates=[\"Order Date\"], dayfirst=True)"
   ]
  },
  {
   "cell_type": "markdown",
   "id": "a2a56b76-bd07-4b11-8048-c8fc24b65049",
   "metadata": {},
   "source": [
    "## Data Exploration"
   ]
  },
  {
   "cell_type": "code",
   "execution_count": 3,
   "id": "3b1a3f0b-8fd0-4e33-99ff-9a9ed1a706b9",
   "metadata": {},
   "outputs": [
    {
     "data": {
      "text/html": [
       "<div>\n",
       "<style scoped>\n",
       "    .dataframe tbody tr th:only-of-type {\n",
       "        vertical-align: middle;\n",
       "    }\n",
       "\n",
       "    .dataframe tbody tr th {\n",
       "        vertical-align: top;\n",
       "    }\n",
       "\n",
       "    .dataframe thead th {\n",
       "        text-align: right;\n",
       "    }\n",
       "</style>\n",
       "<table border=\"1\" class=\"dataframe\">\n",
       "  <thead>\n",
       "    <tr style=\"text-align: right;\">\n",
       "      <th></th>\n",
       "      <th>Additional Order items</th>\n",
       "      <th>Category Name</th>\n",
       "      <th>Customer City</th>\n",
       "      <th>Customer Country</th>\n",
       "      <th>Customer Fname</th>\n",
       "      <th>Customer Id</th>\n",
       "      <th>Customer Segment</th>\n",
       "      <th>Customer State</th>\n",
       "      <th>Customer Zipcode</th>\n",
       "      <th>Market</th>\n",
       "      <th>Order Customer Id</th>\n",
       "      <th>Order Date</th>\n",
       "      <th>Order Id</th>\n",
       "      <th>Order Region</th>\n",
       "      <th>Order Item Total</th>\n",
       "      <th>Order Quantity</th>\n",
       "      <th>Product Price</th>\n",
       "      <th>Profit Margin</th>\n",
       "      <th>Profit Per Order</th>\n",
       "      <th>Sales</th>\n",
       "    </tr>\n",
       "  </thead>\n",
       "  <tbody>\n",
       "    <tr>\n",
       "      <th>0</th>\n",
       "      <td>Camping &amp; Hiking</td>\n",
       "      <td>Camping &amp; Hiking</td>\n",
       "      <td>Caguas</td>\n",
       "      <td>Puerto Rico</td>\n",
       "      <td>Sean</td>\n",
       "      <td>568</td>\n",
       "      <td>Consumer</td>\n",
       "      <td>PR</td>\n",
       "      <td>725.0</td>\n",
       "      <td>LATAM</td>\n",
       "      <td>568</td>\n",
       "      <td>2017-06-17</td>\n",
       "      <td>61558</td>\n",
       "      <td>South America</td>\n",
       "      <td>269.980011</td>\n",
       "      <td>1</td>\n",
       "      <td>299.980011</td>\n",
       "      <td>26.10%</td>\n",
       "      <td>78.290001</td>\n",
       "      <td>800.000000</td>\n",
       "    </tr>\n",
       "    <tr>\n",
       "      <th>1</th>\n",
       "      <td>Camping &amp; Hiking</td>\n",
       "      <td>Camping &amp; Hiking</td>\n",
       "      <td>Caguas</td>\n",
       "      <td>Puerto Rico</td>\n",
       "      <td>Carol</td>\n",
       "      <td>3341</td>\n",
       "      <td>Consumer</td>\n",
       "      <td>PR</td>\n",
       "      <td>725.0</td>\n",
       "      <td>LATAM</td>\n",
       "      <td>3341</td>\n",
       "      <td>2017-04-18</td>\n",
       "      <td>57472</td>\n",
       "      <td>South America</td>\n",
       "      <td>269.980011</td>\n",
       "      <td>1</td>\n",
       "      <td>299.980011</td>\n",
       "      <td>-5.40%</td>\n",
       "      <td>-16.200001</td>\n",
       "      <td>800.000000</td>\n",
       "    </tr>\n",
       "    <tr>\n",
       "      <th>2</th>\n",
       "      <td>Camping &amp; Hiking</td>\n",
       "      <td>Camping &amp; Hiking</td>\n",
       "      <td>Mayaguez</td>\n",
       "      <td>Puerto Rico</td>\n",
       "      <td>Mary</td>\n",
       "      <td>7459</td>\n",
       "      <td>Consumer</td>\n",
       "      <td>PR</td>\n",
       "      <td>680.0</td>\n",
       "      <td>LATAM</td>\n",
       "      <td>7459</td>\n",
       "      <td>2017-05-24</td>\n",
       "      <td>59898</td>\n",
       "      <td>Central America</td>\n",
       "      <td>263.980011</td>\n",
       "      <td>1</td>\n",
       "      <td>299.980011</td>\n",
       "      <td>3.90%</td>\n",
       "      <td>11.620000</td>\n",
       "      <td>800.000000</td>\n",
       "    </tr>\n",
       "    <tr>\n",
       "      <th>3</th>\n",
       "      <td>Camping &amp; Hiking</td>\n",
       "      <td>Camping &amp; Hiking</td>\n",
       "      <td>Mayaguez</td>\n",
       "      <td>Puerto Rico</td>\n",
       "      <td>Mary</td>\n",
       "      <td>7459</td>\n",
       "      <td>Consumer</td>\n",
       "      <td>PR</td>\n",
       "      <td>680.0</td>\n",
       "      <td>LATAM</td>\n",
       "      <td>7459</td>\n",
       "      <td>2017-05-24</td>\n",
       "      <td>59898</td>\n",
       "      <td>Central America</td>\n",
       "      <td>260.980011</td>\n",
       "      <td>1</td>\n",
       "      <td>299.980011</td>\n",
       "      <td>-1.10%</td>\n",
       "      <td>-3.390000</td>\n",
       "      <td>800.000000</td>\n",
       "    </tr>\n",
       "    <tr>\n",
       "      <th>4</th>\n",
       "      <td>Hunting &amp; Shooting</td>\n",
       "      <td>Hunting &amp; Shooting</td>\n",
       "      <td>Caguas</td>\n",
       "      <td>Puerto Rico</td>\n",
       "      <td>Mary</td>\n",
       "      <td>10740</td>\n",
       "      <td>Consumer</td>\n",
       "      <td>PR</td>\n",
       "      <td>725.0</td>\n",
       "      <td>LATAM</td>\n",
       "      <td>10740</td>\n",
       "      <td>2017-06-05</td>\n",
       "      <td>58644</td>\n",
       "      <td>Central America</td>\n",
       "      <td>130.490005</td>\n",
       "      <td>1</td>\n",
       "      <td>149.990005</td>\n",
       "      <td>-63.80%</td>\n",
       "      <td>-95.650002</td>\n",
       "      <td>149.990005</td>\n",
       "    </tr>\n",
       "  </tbody>\n",
       "</table>\n",
       "</div>"
      ],
      "text/plain": [
       "  Additional Order items       Category Name Customer City Customer Country  \\\n",
       "0       Camping & Hiking    Camping & Hiking        Caguas      Puerto Rico   \n",
       "1       Camping & Hiking    Camping & Hiking        Caguas      Puerto Rico   \n",
       "2       Camping & Hiking    Camping & Hiking      Mayaguez      Puerto Rico   \n",
       "3       Camping & Hiking    Camping & Hiking      Mayaguez      Puerto Rico   \n",
       "4     Hunting & Shooting  Hunting & Shooting        Caguas      Puerto Rico   \n",
       "\n",
       "  Customer Fname  Customer Id Customer Segment Customer State  \\\n",
       "0           Sean          568         Consumer             PR   \n",
       "1          Carol         3341         Consumer             PR   \n",
       "2           Mary         7459         Consumer             PR   \n",
       "3           Mary         7459         Consumer             PR   \n",
       "4           Mary        10740         Consumer             PR   \n",
       "\n",
       "   Customer Zipcode Market  Order Customer Id Order Date  Order Id  \\\n",
       "0             725.0  LATAM                568 2017-06-17     61558   \n",
       "1             725.0  LATAM               3341 2017-04-18     57472   \n",
       "2             680.0  LATAM               7459 2017-05-24     59898   \n",
       "3             680.0  LATAM               7459 2017-05-24     59898   \n",
       "4             725.0  LATAM              10740 2017-06-05     58644   \n",
       "\n",
       "      Order Region  Order Item Total  Order Quantity  Product Price  \\\n",
       "0    South America        269.980011               1     299.980011   \n",
       "1    South America        269.980011               1     299.980011   \n",
       "2  Central America        263.980011               1     299.980011   \n",
       "3  Central America        260.980011               1     299.980011   \n",
       "4  Central America        130.490005               1     149.990005   \n",
       "\n",
       "  Profit Margin  Profit Per Order       Sales  \n",
       "0        26.10%         78.290001  800.000000  \n",
       "1        -5.40%        -16.200001  800.000000  \n",
       "2         3.90%         11.620000  800.000000  \n",
       "3        -1.10%         -3.390000  800.000000  \n",
       "4       -63.80%        -95.650002  149.990005  "
      ]
     },
     "execution_count": 3,
     "metadata": {},
     "output_type": "execute_result"
    }
   ],
   "source": [
    "df.head()"
   ]
  },
  {
   "cell_type": "code",
   "execution_count": 4,
   "id": "9e922363-1fe0-44eb-8dcf-d15dd5a63f52",
   "metadata": {},
   "outputs": [
    {
     "data": {
      "text/plain": [
       "(115746, 20)"
      ]
     },
     "execution_count": 4,
     "metadata": {},
     "output_type": "execute_result"
    }
   ],
   "source": [
    "df.shape"
   ]
  },
  {
   "cell_type": "code",
   "execution_count": 5,
   "id": "76029b92-23df-43ae-8c17-73ea7ce84d53",
   "metadata": {},
   "outputs": [
    {
     "name": "stdout",
     "output_type": "stream",
     "text": [
      "<class 'pandas.core.frame.DataFrame'>\n",
      "RangeIndex: 115746 entries, 0 to 115745\n",
      "Data columns (total 20 columns):\n",
      " #   Column                  Non-Null Count   Dtype         \n",
      "---  ------                  --------------   -----         \n",
      " 0   Additional Order items  114722 non-null  object        \n",
      " 1   Category Name           115746 non-null  object        \n",
      " 2   Customer City           115746 non-null  object        \n",
      " 3   Customer Country        115746 non-null  object        \n",
      " 4   Customer Fname          115746 non-null  object        \n",
      " 5   Customer Id             115746 non-null  int64         \n",
      " 6   Customer Segment        115746 non-null  object        \n",
      " 7   Customer State          115746 non-null  object        \n",
      " 8   Customer Zipcode        115743 non-null  float64       \n",
      " 9   Market                  115746 non-null  object        \n",
      " 10  Order Customer Id       115746 non-null  int64         \n",
      " 11  Order Date              115746 non-null  datetime64[ns]\n",
      " 12  Order Id                115746 non-null  int64         \n",
      " 13  Order Region            115746 non-null  object        \n",
      " 14  Order Item Total        115746 non-null  float64       \n",
      " 15  Order Quantity          115746 non-null  int64         \n",
      " 16  Product Price           115746 non-null  float64       \n",
      " 17  Profit Margin           115746 non-null  object        \n",
      " 18  Profit Per Order        115746 non-null  float64       \n",
      " 19  Sales                   115746 non-null  float64       \n",
      "dtypes: datetime64[ns](1), float64(5), int64(4), object(10)\n",
      "memory usage: 17.7+ MB\n"
     ]
    }
   ],
   "source": [
    "df.info()"
   ]
  },
  {
   "cell_type": "code",
   "execution_count": 6,
   "id": "1c4a233e-f7b3-4c5a-bb42-6ab97a32bc41",
   "metadata": {},
   "outputs": [
    {
     "data": {
      "text/html": [
       "<div>\n",
       "<style scoped>\n",
       "    .dataframe tbody tr th:only-of-type {\n",
       "        vertical-align: middle;\n",
       "    }\n",
       "\n",
       "    .dataframe tbody tr th {\n",
       "        vertical-align: top;\n",
       "    }\n",
       "\n",
       "    .dataframe thead th {\n",
       "        text-align: right;\n",
       "    }\n",
       "</style>\n",
       "<table border=\"1\" class=\"dataframe\">\n",
       "  <thead>\n",
       "    <tr style=\"text-align: right;\">\n",
       "      <th></th>\n",
       "      <th>Customer Id</th>\n",
       "      <th>Customer Zipcode</th>\n",
       "      <th>Order Customer Id</th>\n",
       "      <th>Order Date</th>\n",
       "      <th>Order Id</th>\n",
       "      <th>Order Item Total</th>\n",
       "      <th>Order Quantity</th>\n",
       "      <th>Product Price</th>\n",
       "      <th>Profit Per Order</th>\n",
       "      <th>Sales</th>\n",
       "    </tr>\n",
       "  </thead>\n",
       "  <tbody>\n",
       "    <tr>\n",
       "      <th>count</th>\n",
       "      <td>115746.000000</td>\n",
       "      <td>115743.000000</td>\n",
       "      <td>115746.000000</td>\n",
       "      <td>115746</td>\n",
       "      <td>115746.000000</td>\n",
       "      <td>115746.000000</td>\n",
       "      <td>115746.000000</td>\n",
       "      <td>115746.000000</td>\n",
       "      <td>115746.000000</td>\n",
       "      <td>115746.000000</td>\n",
       "    </tr>\n",
       "    <tr>\n",
       "      <th>mean</th>\n",
       "      <td>6714.510506</td>\n",
       "      <td>36031.651158</td>\n",
       "      <td>6714.510506</td>\n",
       "      <td>2016-12-09 13:19:26.160386048</td>\n",
       "      <td>48314.658243</td>\n",
       "      <td>187.193568</td>\n",
       "      <td>2.551535</td>\n",
       "      <td>146.499821</td>\n",
       "      <td>22.585698</td>\n",
       "      <td>237.959730</td>\n",
       "    </tr>\n",
       "    <tr>\n",
       "      <th>min</th>\n",
       "      <td>2.000000</td>\n",
       "      <td>603.000000</td>\n",
       "      <td>2.000000</td>\n",
       "      <td>2016-01-01 00:00:00</td>\n",
       "      <td>25005.000000</td>\n",
       "      <td>7.490000</td>\n",
       "      <td>1.000000</td>\n",
       "      <td>9.990000</td>\n",
       "      <td>-4274.979980</td>\n",
       "      <td>9.990000</td>\n",
       "    </tr>\n",
       "    <tr>\n",
       "      <th>25%</th>\n",
       "      <td>3291.000000</td>\n",
       "      <td>725.000000</td>\n",
       "      <td>3291.000000</td>\n",
       "      <td>2016-06-19 00:00:00</td>\n",
       "      <td>36696.000000</td>\n",
       "      <td>106.589996</td>\n",
       "      <td>1.000000</td>\n",
       "      <td>50.000000</td>\n",
       "      <td>7.200000</td>\n",
       "      <td>129.990005</td>\n",
       "    </tr>\n",
       "    <tr>\n",
       "      <th>50%</th>\n",
       "      <td>6507.000000</td>\n",
       "      <td>19380.000000</td>\n",
       "      <td>6507.000000</td>\n",
       "      <td>2016-12-04 00:00:00</td>\n",
       "      <td>48195.000000</td>\n",
       "      <td>165.990005</td>\n",
       "      <td>2.000000</td>\n",
       "      <td>99.989998</td>\n",
       "      <td>32.040001</td>\n",
       "      <td>199.949997</td>\n",
       "    </tr>\n",
       "    <tr>\n",
       "      <th>75%</th>\n",
       "      <td>9874.000000</td>\n",
       "      <td>78223.000000</td>\n",
       "      <td>9874.000000</td>\n",
       "      <td>2017-05-29 00:00:00</td>\n",
       "      <td>59728.000000</td>\n",
       "      <td>248.979996</td>\n",
       "      <td>4.000000</td>\n",
       "      <td>199.990005</td>\n",
       "      <td>65.727503</td>\n",
       "      <td>299.980011</td>\n",
       "    </tr>\n",
       "    <tr>\n",
       "      <th>max</th>\n",
       "      <td>18634.000000</td>\n",
       "      <td>99205.000000</td>\n",
       "      <td>18634.000000</td>\n",
       "      <td>2017-12-31 00:00:00</td>\n",
       "      <td>75081.000000</td>\n",
       "      <td>1939.989990</td>\n",
       "      <td>5.000000</td>\n",
       "      <td>1999.989990</td>\n",
       "      <td>911.799988</td>\n",
       "      <td>1999.989990</td>\n",
       "    </tr>\n",
       "    <tr>\n",
       "      <th>std</th>\n",
       "      <td>4096.926311</td>\n",
       "      <td>37585.060790</td>\n",
       "      <td>4096.926311</td>\n",
       "      <td>NaN</td>\n",
       "      <td>13532.737160</td>\n",
       "      <td>128.775391</td>\n",
       "      <td>1.683874</td>\n",
       "      <td>150.401535</td>\n",
       "      <td>108.636460</td>\n",
       "      <td>194.407483</td>\n",
       "    </tr>\n",
       "  </tbody>\n",
       "</table>\n",
       "</div>"
      ],
      "text/plain": [
       "         Customer Id  Customer Zipcode  Order Customer Id  \\\n",
       "count  115746.000000     115743.000000      115746.000000   \n",
       "mean     6714.510506      36031.651158        6714.510506   \n",
       "min         2.000000        603.000000           2.000000   \n",
       "25%      3291.000000        725.000000        3291.000000   \n",
       "50%      6507.000000      19380.000000        6507.000000   \n",
       "75%      9874.000000      78223.000000        9874.000000   \n",
       "max     18634.000000      99205.000000       18634.000000   \n",
       "std      4096.926311      37585.060790        4096.926311   \n",
       "\n",
       "                          Order Date       Order Id  Order Item Total  \\\n",
       "count                         115746  115746.000000     115746.000000   \n",
       "mean   2016-12-09 13:19:26.160386048   48314.658243        187.193568   \n",
       "min              2016-01-01 00:00:00   25005.000000          7.490000   \n",
       "25%              2016-06-19 00:00:00   36696.000000        106.589996   \n",
       "50%              2016-12-04 00:00:00   48195.000000        165.990005   \n",
       "75%              2017-05-29 00:00:00   59728.000000        248.979996   \n",
       "max              2017-12-31 00:00:00   75081.000000       1939.989990   \n",
       "std                              NaN   13532.737160        128.775391   \n",
       "\n",
       "       Order Quantity  Product Price  Profit Per Order          Sales  \n",
       "count   115746.000000  115746.000000     115746.000000  115746.000000  \n",
       "mean         2.551535     146.499821         22.585698     237.959730  \n",
       "min          1.000000       9.990000      -4274.979980       9.990000  \n",
       "25%          1.000000      50.000000          7.200000     129.990005  \n",
       "50%          2.000000      99.989998         32.040001     199.949997  \n",
       "75%          4.000000     199.990005         65.727503     299.980011  \n",
       "max          5.000000    1999.989990        911.799988    1999.989990  \n",
       "std          1.683874     150.401535        108.636460     194.407483  "
      ]
     },
     "execution_count": 6,
     "metadata": {},
     "output_type": "execute_result"
    }
   ],
   "source": [
    "df.describe()"
   ]
  },
  {
   "cell_type": "code",
   "execution_count": 7,
   "id": "38d663c0-deb1-444e-9846-c67b66812c3d",
   "metadata": {},
   "outputs": [
    {
     "data": {
      "text/plain": [
       "Additional Order items    1024\n",
       "Category Name                0\n",
       "Customer City                0\n",
       "Customer Country             0\n",
       "Customer Fname               0\n",
       "Customer Id                  0\n",
       "Customer Segment             0\n",
       "Customer State               0\n",
       "Customer Zipcode             3\n",
       "Market                       0\n",
       "Order Customer Id            0\n",
       "Order Date                   0\n",
       "Order Id                     0\n",
       "Order Region                 0\n",
       "Order Item Total             0\n",
       "Order Quantity               0\n",
       "Product Price                0\n",
       "Profit Margin                0\n",
       "Profit Per Order             0\n",
       "Sales                        0\n",
       "dtype: int64"
      ]
     },
     "execution_count": 7,
     "metadata": {},
     "output_type": "execute_result"
    }
   ],
   "source": [
    "# checking missing values\n",
    "df.isna().sum()"
   ]
  },
  {
   "cell_type": "code",
   "execution_count": 8,
   "id": "afae022b-4217-4d7a-8515-819ad307a0e8",
   "metadata": {},
   "outputs": [
    {
     "data": {
      "text/plain": [
       "0"
      ]
     },
     "execution_count": 8,
     "metadata": {},
     "output_type": "execute_result"
    }
   ],
   "source": [
    "# checking for duplicate values\n",
    "df.duplicated().sum()"
   ]
  },
  {
   "cell_type": "code",
   "execution_count": 9,
   "id": "65a6d336-8044-4045-9f88-9a5d914f6c34",
   "metadata": {},
   "outputs": [],
   "source": [
    "# dropping unnecessary column\n",
    "df.drop(\"Additional Order items\", axis=1, inplace=True)\n",
    "df.drop(\"Order Customer Id\", axis=1, inplace=True)"
   ]
  },
  {
   "cell_type": "code",
   "execution_count": 10,
   "id": "845b25c4-35d1-4acd-b472-2b4ff167c79f",
   "metadata": {},
   "outputs": [
    {
     "data": {
      "text/plain": [
       "Index(['Category Name', 'Customer City', 'Customer Country', 'Customer Fname',\n",
       "       'Customer Id', 'Customer Segment', 'Customer State', 'Customer Zipcode',\n",
       "       'Market', 'Order Date', 'Order Id', 'Order Region', 'Order Item Total',\n",
       "       'Order Quantity', 'Product Price', 'Profit Margin', 'Profit Per Order',\n",
       "       'Sales'],\n",
       "      dtype='object')"
      ]
     },
     "execution_count": 10,
     "metadata": {},
     "output_type": "execute_result"
    }
   ],
   "source": [
    "df.columns"
   ]
  },
  {
   "cell_type": "code",
   "execution_count": 11,
   "id": "92a81412-16c8-411a-bbc6-68b8cd9dabd6",
   "metadata": {},
   "outputs": [],
   "source": [
    "# Renaming columns\n",
    "df = df.rename(\n",
    "   { \"Category Name\": \"Category_Name\",\n",
    "    \"Customer City\": \"Customer_City\",\n",
    "    \"Customer Country\": \"Customer_Country\",\n",
    "    \"Customer Fname\": \"Customer_Fname\",\n",
    "    \"Customer Id\": \"CustomerID\",\n",
    "    \"Customer Segment\": \"Customer_Segment\",\n",
    "    \"Customer State\": \"Customer_State\",\n",
    "    \"Customer Zipcode\": \"Customer_Zipcode\",\n",
    "    \"Order Date\": \"Order_Date\",\n",
    "    \"Order Id\": \"OrderID\",\n",
    "    \"Order Region\": \"Order_Region\",\n",
    "    \"Order Item Total\": \"Order_Item_Total\",\n",
    "    \"Order Quantity\": \"Order_Quantity\",\n",
    "    \"Product Price\": \"Product_Price\",\n",
    "    \"Profit Margin\": \"Profit_Margin\",\n",
    "    \"Profit Per Order\": \"Profit_Per_Order\"\n",
    "   }, axis=1\n",
    ")"
   ]
  },
  {
   "cell_type": "markdown",
   "id": "86af082e-63f3-498e-abee-8a2405e0371d",
   "metadata": {},
   "source": [
    "## Exploratory Analysis"
   ]
  },
  {
   "cell_type": "code",
   "execution_count": 12,
   "id": "5f2616f8-7942-4663-9a43-e16c31e3237b",
   "metadata": {},
   "outputs": [
    {
     "name": "stdout",
     "output_type": "stream",
     "text": [
      "Total Revenue: $27542886.86\n"
     ]
    }
   ],
   "source": [
    "# Total Revenue\n",
    "total_revenue = df[\"Sales\"].sum()\n",
    "print(f\"Total Revenue: ${total_revenue.round(2)}\")"
   ]
  },
  {
   "cell_type": "code",
   "execution_count": 13,
   "id": "c7cc8948-1133-4716-b709-a9460ad42c23",
   "metadata": {},
   "outputs": [
    {
     "data": {
      "text/html": [
       "<div>\n",
       "<style scoped>\n",
       "    .dataframe tbody tr th:only-of-type {\n",
       "        vertical-align: middle;\n",
       "    }\n",
       "\n",
       "    .dataframe tbody tr th {\n",
       "        vertical-align: top;\n",
       "    }\n",
       "\n",
       "    .dataframe thead th {\n",
       "        text-align: right;\n",
       "    }\n",
       "</style>\n",
       "<table border=\"1\" class=\"dataframe\">\n",
       "  <thead>\n",
       "    <tr style=\"text-align: right;\">\n",
       "      <th></th>\n",
       "      <th>revenue_millions</th>\n",
       "    </tr>\n",
       "    <tr>\n",
       "      <th>Order_Date</th>\n",
       "      <th></th>\n",
       "    </tr>\n",
       "  </thead>\n",
       "  <tbody>\n",
       "    <tr>\n",
       "      <th>2016-12-31</th>\n",
       "      <td>13.433162</td>\n",
       "    </tr>\n",
       "    <tr>\n",
       "      <th>2017-12-31</th>\n",
       "      <td>14.109725</td>\n",
       "    </tr>\n",
       "  </tbody>\n",
       "</table>\n",
       "</div>"
      ],
      "text/plain": [
       "            revenue_millions\n",
       "Order_Date                  \n",
       "2016-12-31         13.433162\n",
       "2017-12-31         14.109725"
      ]
     },
     "execution_count": 13,
     "metadata": {},
     "output_type": "execute_result"
    }
   ],
   "source": [
    "# Revenue by Year\n",
    "(df\n",
    " .set_index(\"Order_Date\")\n",
    " .resample(\"YE\")\n",
    " .agg(\n",
    "     revenue_millions=(\"Sales\", \"sum\")\n",
    " )\n",
    " /1000000 # to convert to millions\n",
    ")"
   ]
  },
  {
   "cell_type": "code",
   "execution_count": 14,
   "id": "a1929a86-e965-42c5-8910-dafe6f6d77b8",
   "metadata": {},
   "outputs": [
    {
     "data": {
      "text/html": [
       "<div>\n",
       "<style scoped>\n",
       "    .dataframe tbody tr th:only-of-type {\n",
       "        vertical-align: middle;\n",
       "    }\n",
       "\n",
       "    .dataframe tbody tr th {\n",
       "        vertical-align: top;\n",
       "    }\n",
       "\n",
       "    .dataframe thead th {\n",
       "        text-align: right;\n",
       "    }\n",
       "</style>\n",
       "<table border=\"1\" class=\"dataframe\">\n",
       "  <thead>\n",
       "    <tr style=\"text-align: right;\">\n",
       "      <th></th>\n",
       "      <th>pct_change</th>\n",
       "    </tr>\n",
       "    <tr>\n",
       "      <th>Order_Date</th>\n",
       "      <th></th>\n",
       "    </tr>\n",
       "  </thead>\n",
       "  <tbody>\n",
       "    <tr>\n",
       "      <th>2016-12-31</th>\n",
       "      <td>NaN</td>\n",
       "    </tr>\n",
       "    <tr>\n",
       "      <th>2017-12-31</th>\n",
       "      <td>5.036519</td>\n",
       "    </tr>\n",
       "  </tbody>\n",
       "</table>\n",
       "</div>"
      ],
      "text/plain": [
       "            pct_change\n",
       "Order_Date            \n",
       "2016-12-31         NaN\n",
       "2017-12-31    5.036519"
      ]
     },
     "execution_count": 14,
     "metadata": {},
     "output_type": "execute_result"
    }
   ],
   "source": [
    "# Revenue percentage change\n",
    "(df\n",
    " .set_index(\"Order_Date\")\n",
    " .resample(\"YE\")\n",
    " .agg(\n",
    "     pct_change=(\"Sales\", \"sum\")\n",
    " )\n",
    " .pct_change() * 100 # calculate % change\n",
    ")"
   ]
  },
  {
   "cell_type": "code",
   "execution_count": 15,
   "id": "8091c27f-a2c3-49a9-8da9-528a2b45e4a6",
   "metadata": {},
   "outputs": [
    {
     "data": {
      "text/html": [
       "<div>\n",
       "<style scoped>\n",
       "    .dataframe tbody tr th:only-of-type {\n",
       "        vertical-align: middle;\n",
       "    }\n",
       "\n",
       "    .dataframe tbody tr th {\n",
       "        vertical-align: top;\n",
       "    }\n",
       "\n",
       "    .dataframe thead th {\n",
       "        text-align: right;\n",
       "    }\n",
       "</style>\n",
       "<table border=\"1\" class=\"dataframe\">\n",
       "  <thead>\n",
       "    <tr style=\"text-align: right;\">\n",
       "      <th></th>\n",
       "      <th>profit_millions</th>\n",
       "    </tr>\n",
       "    <tr>\n",
       "      <th>Order_Date</th>\n",
       "      <th></th>\n",
       "    </tr>\n",
       "  </thead>\n",
       "  <tbody>\n",
       "    <tr>\n",
       "      <th>2016-12-31</th>\n",
       "      <td>1.310119</td>\n",
       "    </tr>\n",
       "    <tr>\n",
       "      <th>2017-12-31</th>\n",
       "      <td>1.304085</td>\n",
       "    </tr>\n",
       "  </tbody>\n",
       "</table>\n",
       "</div>"
      ],
      "text/plain": [
       "            profit_millions\n",
       "Order_Date                 \n",
       "2016-12-31         1.310119\n",
       "2017-12-31         1.304085"
      ]
     },
     "execution_count": 15,
     "metadata": {},
     "output_type": "execute_result"
    }
   ],
   "source": [
    "# Profit per order by year\n",
    "(df\n",
    " .set_index(\"Order_Date\")\n",
    " .resample(\"YE\")\n",
    " .agg(\n",
    "     profit_millions=(\"Profit_Per_Order\", \"sum\")\n",
    " )\n",
    " /1000000\n",
    ")"
   ]
  },
  {
   "cell_type": "code",
   "execution_count": 16,
   "id": "98d30f19-721a-4b7a-9d0a-563f2cca200e",
   "metadata": {},
   "outputs": [
    {
     "data": {
      "text/html": [
       "<div>\n",
       "<style scoped>\n",
       "    .dataframe tbody tr th:only-of-type {\n",
       "        vertical-align: middle;\n",
       "    }\n",
       "\n",
       "    .dataframe tbody tr th {\n",
       "        vertical-align: top;\n",
       "    }\n",
       "\n",
       "    .dataframe thead th {\n",
       "        text-align: right;\n",
       "    }\n",
       "</style>\n",
       "<table border=\"1\" class=\"dataframe\">\n",
       "  <thead>\n",
       "    <tr style=\"text-align: right;\">\n",
       "      <th></th>\n",
       "      <th>pct_change</th>\n",
       "    </tr>\n",
       "    <tr>\n",
       "      <th>Order_Date</th>\n",
       "      <th></th>\n",
       "    </tr>\n",
       "  </thead>\n",
       "  <tbody>\n",
       "    <tr>\n",
       "      <th>2016-12-31</th>\n",
       "      <td>NaN</td>\n",
       "    </tr>\n",
       "    <tr>\n",
       "      <th>2017-12-31</th>\n",
       "      <td>-0.460566</td>\n",
       "    </tr>\n",
       "  </tbody>\n",
       "</table>\n",
       "</div>"
      ],
      "text/plain": [
       "            pct_change\n",
       "Order_Date            \n",
       "2016-12-31         NaN\n",
       "2017-12-31   -0.460566"
      ]
     },
     "execution_count": 16,
     "metadata": {},
     "output_type": "execute_result"
    }
   ],
   "source": [
    "# Profit per order Percentage change\n",
    "(df\n",
    " .set_index(\"Order_Date\")\n",
    " .resample(\"YE\")\n",
    " .agg(\n",
    "     pct_change=(\"Profit_Per_Order\", \"sum\")\n",
    " )\n",
    " .pct_change() * 100\n",
    ")"
   ]
  },
  {
   "cell_type": "code",
   "execution_count": 17,
   "id": "a1a98264-ca08-437d-8836-074a12c6afd4",
   "metadata": {},
   "outputs": [
    {
     "data": {
      "text/html": [
       "<div>\n",
       "<style scoped>\n",
       "    .dataframe tbody tr th:only-of-type {\n",
       "        vertical-align: middle;\n",
       "    }\n",
       "\n",
       "    .dataframe tbody tr th {\n",
       "        vertical-align: top;\n",
       "    }\n",
       "\n",
       "    .dataframe thead th {\n",
       "        text-align: right;\n",
       "    }\n",
       "</style>\n",
       "<table border=\"1\" class=\"dataframe\">\n",
       "  <thead>\n",
       "    <tr style=\"text-align: right;\">\n",
       "      <th></th>\n",
       "      <th>orders</th>\n",
       "    </tr>\n",
       "    <tr>\n",
       "      <th>Order_Date</th>\n",
       "      <th></th>\n",
       "    </tr>\n",
       "  </thead>\n",
       "  <tbody>\n",
       "    <tr>\n",
       "      <th>2016-12-31</th>\n",
       "      <td>137352</td>\n",
       "    </tr>\n",
       "    <tr>\n",
       "      <th>2017-12-31</th>\n",
       "      <td>157978</td>\n",
       "    </tr>\n",
       "  </tbody>\n",
       "</table>\n",
       "</div>"
      ],
      "text/plain": [
       "            orders\n",
       "Order_Date        \n",
       "2016-12-31  137352\n",
       "2017-12-31  157978"
      ]
     },
     "execution_count": 17,
     "metadata": {},
     "output_type": "execute_result"
    }
   ],
   "source": [
    "# Number of orders by year\n",
    "(df\n",
    " .set_index(\"Order_Date\")\n",
    " .resample(\"YE\")\n",
    " .agg(\n",
    "     orders=(\"Order_Quantity\", \"sum\")\n",
    " )\n",
    ")"
   ]
  },
  {
   "cell_type": "code",
   "execution_count": 18,
   "id": "1a19f16c-12da-4e76-8da6-b2ebb9818b6c",
   "metadata": {},
   "outputs": [
    {
     "data": {
      "text/html": [
       "<div>\n",
       "<style scoped>\n",
       "    .dataframe tbody tr th:only-of-type {\n",
       "        vertical-align: middle;\n",
       "    }\n",
       "\n",
       "    .dataframe tbody tr th {\n",
       "        vertical-align: top;\n",
       "    }\n",
       "\n",
       "    .dataframe thead th {\n",
       "        text-align: right;\n",
       "    }\n",
       "</style>\n",
       "<table border=\"1\" class=\"dataframe\">\n",
       "  <thead>\n",
       "    <tr style=\"text-align: right;\">\n",
       "      <th></th>\n",
       "      <th>orders</th>\n",
       "    </tr>\n",
       "    <tr>\n",
       "      <th>Order_Date</th>\n",
       "      <th></th>\n",
       "    </tr>\n",
       "  </thead>\n",
       "  <tbody>\n",
       "    <tr>\n",
       "      <th>2016-12-31</th>\n",
       "      <td>NaN</td>\n",
       "    </tr>\n",
       "    <tr>\n",
       "      <th>2017-12-31</th>\n",
       "      <td>15.016891</td>\n",
       "    </tr>\n",
       "  </tbody>\n",
       "</table>\n",
       "</div>"
      ],
      "text/plain": [
       "               orders\n",
       "Order_Date           \n",
       "2016-12-31        NaN\n",
       "2017-12-31  15.016891"
      ]
     },
     "execution_count": 18,
     "metadata": {},
     "output_type": "execute_result"
    }
   ],
   "source": [
    "# Number of orders percentage change\n",
    "(df\n",
    " .set_index(\"Order_Date\")\n",
    " .resample(\"YE\")\n",
    " .agg(\n",
    "     orders=(\"Order_Quantity\", \"sum\")\n",
    " )\n",
    " .pct_change() * 100\n",
    ")"
   ]
  },
  {
   "cell_type": "code",
   "execution_count": 19,
   "id": "89502fbe-9081-47c9-8d39-02f8f2eb51b7",
   "metadata": {},
   "outputs": [],
   "source": [
    "# Market Share in millions\n",
    "market_share = (df\n",
    " .groupby(\"Market\")\n",
    " .agg(\n",
    "    sales=(\"Sales\", \"sum\")\n",
    " )\n",
    ")"
   ]
  },
  {
   "cell_type": "code",
   "execution_count": 20,
   "id": "abe47ae8-f043-486d-bbe2-0b184761b2f3",
   "metadata": {},
   "outputs": [
    {
     "data": {
      "image/png": "[encoded data removed]",
      "text/plain": [
       "<Figure size 640x480 with 1 Axes>"
      ]
     },
     "metadata": {},
     "output_type": "display_data"
    }
   ],
   "source": [
    "fig, ax = plt.subplots()\n",
    "explode = (0, 0.1, 0, 0, 0)\n",
    "ax.pie(\n",
    "    market_share[\"sales\"], \n",
    "    labels=market_share.index, \n",
    "    autopct=\"%1.2f%%\",\n",
    "    colors=['olivedrab', 'rosybrown', 'gray', 'saddlebrown', 'green'],\n",
    "    explode=explode,\n",
    "    textprops={'size': 'smaller'}, radius=0.9\n",
    ");"
   ]
  },
  {
   "cell_type": "code",
   "execution_count": 21,
   "id": "c55cef1a-91a7-4f1b-92c0-22d815e62f8a",
   "metadata": {},
   "outputs": [
    {
     "data": {
      "image/png": "[encoded data removed]",
      "text/plain": [
       "<Figure size 640x480 with 1 Axes>"
      ]
     },
     "metadata": {},
     "output_type": "display_data"
    }
   ],
   "source": [
    "# Category-wise sales\n",
    "(df\n",
    " .set_index(\"Order_Date\")\n",
    " .groupby(\"Category_Name\")\n",
    " # .resample(\"YE\", include_groups=False)\n",
    " .agg(\n",
    "     sales=(\"Sales\", \"sum\")\n",
    " )\n",
    " .sort_values(\"sales\", ascending=False)[:10]\n",
    " .sort_values(\"sales\")\n",
    ").plot.barh();"
   ]
  }
 ],
 "metadata": {
  "kernelspec": {
   "display_name": "Python 3 (ipykernel)",
   "language": "python",
   "name": "python3"
  },
  "language_info": {
   "codemirror_mode": {
    "name": "ipython",
    "version": 3
   },
   "file_extension": ".py",
   "mimetype": "text/x-python",
   "name": "python",
   "nbconvert_exporter": "python",
   "pygments_lexer": "ipython3",
   "version": "3.11.7"
  }
 },
 "nbformat": 4,
 "nbformat_minor": 5
}
